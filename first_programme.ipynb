{
 "cells": [
  {
   "cell_type": "code",
   "execution_count": 1,
   "metadata": {},
   "outputs": [
    {
     "name": "stdout",
     "output_type": "stream",
     "text": [
      "Hello World\n",
      "5\n"
     ]
    }
   ],
   "source": [
    "### Python Progrmm\n",
    "print(\"Hello World\")\n",
    "print(2+3)\n"
   ]
  },
  {
   "cell_type": "code",
   "execution_count": 2,
   "metadata": {},
   "outputs": [],
   "source": [
    "##  letse talk about some imp print methods\n",
    "first_name = \"Mayur\"\n",
    "Last_name = \"Nagare\""
   ]
  },
  {
   "cell_type": "code",
   "execution_count": 3,
   "metadata": {},
   "outputs": [
    {
     "name": "stdout",
     "output_type": "stream",
     "text": [
      "My first name is Mayur and my last name is Nagare\n",
      "My First name is Mayur abd my last name is Nagare\n"
     ]
    }
   ],
   "source": [
    "## 1st method\n",
    "print(\"My first name is {} and my last name is {}\".format(first_name,Last_name))\n",
    "## 2nd method\n",
    "print(\"My First name is {first} abd my last name is {last}\".format(first=first_name,last=Last_name))"
   ]
  },
  {
   "cell_type": "markdown",
   "metadata": {},
   "source": [
    "## LIST"
   ]
  },
  {
   "cell_type": "markdown",
   "metadata": {},
   "source": [
    "##### Definition: Lists are ordered collections of elements, enclosed in square brackets [ ], where each element can be of any data type.\n",
    "\n",
    "##### Mutability: Lists are mutable, meaning you can change, add, and remove elements after the list is created.\n",
    "\n",
    "##### Indexing: Elements in a list are accessed via their index, starting from 0.\n",
    "\n",
    "##### Duplicates: Lists can contain duplicate elements."
   ]
  },
  {
   "cell_type": "code",
   "execution_count": 4,
   "metadata": {},
   "outputs": [
    {
     "data": {
      "text/plain": [
       "list"
      ]
     },
     "execution_count": 4,
     "metadata": {},
     "output_type": "execute_result"
    }
   ],
   "source": [
    "###LIST\n",
    "type([])\n"
   ]
  },
  {
   "cell_type": "code",
   "execution_count": 27,
   "metadata": {},
   "outputs": [
    {
     "name": "stdout",
     "output_type": "stream",
     "text": [
      "mayur nagare 12 14\n",
      "['mayur', 'nagare', 12, 14]\n"
     ]
    },
    {
     "data": {
      "text/plain": [
       "list"
      ]
     },
     "execution_count": 27,
     "metadata": {},
     "output_type": "execute_result"
    }
   ],
   "source": [
    "## Create list and see the operation on that\n",
    "\n",
    "li= ['mayur','nagare',12,14]\n",
    "print(*li)  ## when you use * only items will get\n",
    "print(li)\n",
    "type(li)"
   ]
  },
  {
   "cell_type": "code",
   "execution_count": 30,
   "metadata": {},
   "outputs": [
    {
     "data": {
      "text/plain": [
       "['mayur', 'nagare', 12, 14, 4, 12, 13, 14]"
      ]
     },
     "execution_count": 30,
     "metadata": {},
     "output_type": "execute_result"
    }
   ],
   "source": [
    "## list operation\n",
    "li.append(4)  ### Add items in list (it will add in an end)\n",
    "li.insert(1,\"sanjay\")  ### insert element or number wrt specified orders\n",
    "li.remove('sanjay')   ### remove any items in a list use that function.\n",
    "li.extend([12,13,14]) ## add multiple items in the list\n",
    "li\n"
   ]
  },
  {
   "cell_type": "code",
   "execution_count": 31,
   "metadata": {},
   "outputs": [
    {
     "data": {
      "text/plain": [
       "['nagare', 12, 14, 4, 12, 13, 14]"
      ]
     },
     "execution_count": 31,
     "metadata": {},
     "output_type": "execute_result"
    }
   ],
   "source": [
    "##  slice the list\n",
    "\n",
    "li[1:]"
   ]
  },
  {
   "cell_type": "code",
   "execution_count": 35,
   "metadata": {},
   "outputs": [
    {
     "data": {
      "text/plain": [
       "2"
      ]
     },
     "execution_count": 35,
     "metadata": {},
     "output_type": "execute_result"
    }
   ],
   "source": [
    "### list Operation\n",
    "n_list = [2,3,4,5,6,7,7,8]\n",
    "\n",
    "n_list.count(7)  ### check how many values repeated in a list"
   ]
  },
  {
   "cell_type": "code",
   "execution_count": null,
   "metadata": {},
   "outputs": [],
   "source": [
    "len(n_list)   ## total items in alist"
   ]
  },
  {
   "cell_type": "code",
   "execution_count": 36,
   "metadata": {},
   "outputs": [
    {
     "data": {
      "text/plain": [
       "42"
      ]
     },
     "execution_count": 36,
     "metadata": {},
     "output_type": "execute_result"
    }
   ],
   "source": [
    "### various option in list\n",
    "## sum\n",
    "sum(n_list)"
   ]
  },
  {
   "cell_type": "code",
   "execution_count": 37,
   "metadata": {},
   "outputs": [
    {
     "data": {
      "text/plain": [
       "[2, 3, 4, 5, 6, 7, 7, 8, 2, 3, 4, 5, 6, 7, 7, 8]"
      ]
     },
     "execution_count": 37,
     "metadata": {},
     "output_type": "execute_result"
    }
   ],
   "source": [
    "##multipliciation\n",
    "n_list*2"
   ]
  },
  {
   "cell_type": "code",
   "execution_count": 38,
   "metadata": {},
   "outputs": [
    {
     "data": {
      "text/plain": [
       "4"
      ]
     },
     "execution_count": 38,
     "metadata": {},
     "output_type": "execute_result"
    }
   ],
   "source": [
    "### Pop method\n",
    "n_list.pop(2)  ### index no. given "
   ]
  },
  {
   "cell_type": "code",
   "execution_count": 40,
   "metadata": {},
   "outputs": [
    {
     "data": {
      "text/plain": [
       "[2, 3, 5, 6, 7, 8]"
      ]
     },
     "execution_count": 40,
     "metadata": {},
     "output_type": "execute_result"
    }
   ],
   "source": [
    "n_list.pop(4)\n",
    "n_list"
   ]
  },
  {
   "cell_type": "markdown",
   "metadata": {},
   "source": [
    "## SET \n"
   ]
  },
  {
   "cell_type": "markdown",
   "metadata": {},
   "source": [
    "##### Definition: Sets are unordered collections of unique elements, enclosed in curly braces { } or created using the set() constructor.\n",
    "\n",
    "##### Uniqueness: Sets do not allow duplicate elements. If you try to add a duplicate element, it will not be added.\n",
    "\n",
    "##### Mutability: Sets are mutable, meaning you can add and remove elements after the set is created."
   ]
  },
  {
   "cell_type": "code",
   "execution_count": 44,
   "metadata": {},
   "outputs": [
    {
     "data": {
      "text/plain": [
       "set"
      ]
     },
     "execution_count": 44,
     "metadata": {},
     "output_type": "execute_result"
    }
   ],
   "source": [
    "my_set = set()  ## empty set\n",
    "type(my_set)"
   ]
  },
  {
   "cell_type": "code",
   "execution_count": 45,
   "metadata": {},
   "outputs": [
    {
     "data": {
      "text/plain": [
       "6"
      ]
     },
     "execution_count": 45,
     "metadata": {},
     "output_type": "execute_result"
    }
   ],
   "source": [
    "set_var = {1,2,3,4,5,6}\n",
    "len(set_var)\n"
   ]
  },
  {
   "cell_type": "code",
   "execution_count": 52,
   "metadata": {},
   "outputs": [
    {
     "data": {
      "text/plain": [
       "{1, 2, 3, 4, 5, 6, 7, 8}"
      ]
     },
     "execution_count": 52,
     "metadata": {},
     "output_type": "execute_result"
    }
   ],
   "source": [
    "### Add a new multiple variable to the set\n",
    "set_var.update({7,8})\n",
    "set_var"
   ]
  },
  {
   "cell_type": "code",
   "execution_count": 53,
   "metadata": {},
   "outputs": [
    {
     "data": {
      "text/plain": [
       "7"
      ]
     },
     "execution_count": 53,
     "metadata": {},
     "output_type": "execute_result"
    }
   ],
   "source": [
    "## define new set\n",
    "new_set = {1,2,3,3,3,4,5,6,7,7}\n",
    "len(new_set)\n"
   ]
  },
  {
   "cell_type": "code",
   "execution_count": 77,
   "metadata": {},
   "outputs": [],
   "source": [
    "## \n",
    "set1 = {1,2,3,4,5,6,7,8}\n",
    "set2 = {1,2,3,4,5}\n",
    "\n"
   ]
  },
  {
   "cell_type": "code",
   "execution_count": 69,
   "metadata": {},
   "outputs": [
    {
     "data": {
      "text/plain": [
       "{5, 6, 7, 8}"
      ]
     },
     "execution_count": 69,
     "metadata": {},
     "output_type": "execute_result"
    }
   ],
   "source": [
    "### lets take difference  between set\n",
    "set1.difference(set2)\n"
   ]
  },
  {
   "cell_type": "code",
   "execution_count": 78,
   "metadata": {},
   "outputs": [
    {
     "data": {
      "text/plain": [
       "{1, 2, 3, 4, 5}"
      ]
     },
     "execution_count": 78,
     "metadata": {},
     "output_type": "execute_result"
    }
   ],
   "source": [
    "set1.intersection_update(set2)   ## check out the common elelmtns between 2 set\n",
    "set1\n",
    "# set1"
   ]
  },
  {
   "cell_type": "code",
   "execution_count": 70,
   "metadata": {},
   "outputs": [
    {
     "name": "stdout",
     "output_type": "stream",
     "text": [
      "1\n",
      "2\n",
      "3\n",
      "4\n",
      "5\n",
      "6\n",
      "7\n",
      "8\n"
     ]
    }
   ],
   "source": [
    "### get the items in the set \n",
    "\n",
    "for item in set1:\n",
    "    print(item)"
   ]
  },
  {
   "cell_type": "code",
   "execution_count": 73,
   "metadata": {},
   "outputs": [
    {
     "name": "stdout",
     "output_type": "stream",
     "text": [
      "mayur\n",
      "rahs\n",
      "ram\n",
      "shyam\n"
     ]
    }
   ],
   "source": [
    "#### lets check another one\n",
    "sn = {\"ram\",\"shyam\",\"mayur\",\"rahs\"}\n",
    "\n",
    "for x in sn:\n",
    "    print(x)"
   ]
  },
  {
   "cell_type": "markdown",
   "metadata": {},
   "source": [
    "## Dictionaries \n",
    "#### A Dictionary which is unordered chnagable and indexed. they have key values pairs\n"
   ]
  },
  {
   "cell_type": "markdown",
   "metadata": {},
   "source": [
    "##### Definition: A dictionary is defined using curly braces { }. Each element in a dictionary is a key-value pair, where the key and value are separated by a colon :.\n",
    "\n",
    "##### Keys: Keys in a dictionary must be unique and immutable (like strings, numbers, or tuples containing immutable elements).\n",
    "\n",
    "##### Values: Values can be of any data type and can be mutable, immutable, or a mix of both.\n",
    "\n",
    "##### Accessing Elements: Elements in a dictionary are accessed via keys rather than positional index.\n",
    "\n",
    "##### Mutability: Unlike tuples, dictionaries are mutable, meaning you can add, delete, or modify key-value pairs after the dictionary is created."
   ]
  },
  {
   "cell_type": "code",
   "execution_count": 4,
   "metadata": {},
   "outputs": [
    {
     "data": {
      "text/plain": [
       "dict_items([('car1', 'audi'), ('car2', 'bmw'), ('car3', 'suzuki'), ('car4', 'honda')])"
      ]
     },
     "execution_count": 4,
     "metadata": {},
     "output_type": "execute_result"
    }
   ],
   "source": [
    "#lets create dictionary\n",
    "my_dic = {'car1':\"audi\",'car2':'bmw','car3':'suzuki','car4':'honda'}\n",
    "my_dic.items()"
   ]
  },
  {
   "cell_type": "code",
   "execution_count": 7,
   "metadata": {},
   "outputs": [
    {
     "data": {
      "text/plain": [
       "'audi'"
      ]
     },
     "execution_count": 7,
     "metadata": {},
     "output_type": "execute_result"
    }
   ],
   "source": [
    "my_dic['car1']  ### acces the first element"
   ]
  },
  {
   "cell_type": "code",
   "execution_count": 10,
   "metadata": {},
   "outputs": [
    {
     "name": "stdout",
     "output_type": "stream",
     "text": [
      "('car1', 'audi')\n",
      "('car2', 'bmw')\n",
      "('car3', 'suzuki')\n",
      "('car4', 'honda')\n"
     ]
    }
   ],
   "source": [
    "for x in my_dic.items():  ### all values\n",
    "    print(x)"
   ]
  },
  {
   "cell_type": "code",
   "execution_count": 11,
   "metadata": {},
   "outputs": [
    {
     "data": {
      "text/plain": [
       "{'car1': 'audi',\n",
       " 'car2': 'bmw',\n",
       " 'car3': 'suzuki',\n",
       " 'car4': 'honda',\n",
       " 'car5': 'creta',\n",
       " 'car6': 'porsche'}"
      ]
     },
     "execution_count": 11,
     "metadata": {},
     "output_type": "execute_result"
    }
   ],
   "source": [
    "### Adding new values in my _dic use the update function\n",
    "\n",
    "new_dic = {'car5':'creta','car6':'porsche'}\n",
    "\n",
    "my_dic.update(new_dic)\n",
    "my_dic"
   ]
  },
  {
   "cell_type": "code",
   "execution_count": 12,
   "metadata": {},
   "outputs": [],
   "source": [
    "## Chnage the items within idex\n",
    "my_dic['car1']='AUDI'"
   ]
  },
  {
   "cell_type": "code",
   "execution_count": 13,
   "metadata": {},
   "outputs": [
    {
     "data": {
      "text/plain": [
       "{'car1': 'AUDI',\n",
       " 'car2': 'bmw',\n",
       " 'car3': 'suzuki',\n",
       " 'car4': 'honda',\n",
       " 'car5': 'creta',\n",
       " 'car6': 'porsche'}"
      ]
     },
     "execution_count": 13,
     "metadata": {},
     "output_type": "execute_result"
    }
   ],
   "source": [
    "my_dic"
   ]
  },
  {
   "cell_type": "markdown",
   "metadata": {},
   "source": [
    "## TUPLES()\n",
    "\n",
    "\n"
   ]
  },
  {
   "cell_type": "markdown",
   "metadata": {},
   "source": [
    "#### Definition: A tuple is an ordered collection of elements, enclosed in parentheses ( ), where each element can be of any data type (e.g., integer, string, tuple, etc.).\n",
    "\n",
    "#### Immutability: Once a tuple is created, you cannot modify its contents. This means you cannot add, remove, or change elements in a tuple.\n",
    "\n",
    "#### Usage: Tuples are typically used for grouping related data that should not be changed, such as coordinates, RGB color values, or database records."
   ]
  },
  {
   "cell_type": "code",
   "execution_count": 15,
   "metadata": {},
   "outputs": [
    {
     "data": {
      "text/plain": [
       "tuple"
      ]
     },
     "execution_count": 15,
     "metadata": {},
     "output_type": "execute_result"
    }
   ],
   "source": [
    "my_tuple = ('name','age','year','place')\n",
    "type(my_tuple)"
   ]
  },
  {
   "cell_type": "code",
   "execution_count": 18,
   "metadata": {},
   "outputs": [
    {
     "data": {
      "text/plain": [
       "('age',)"
      ]
     },
     "execution_count": 18,
     "metadata": {},
     "output_type": "execute_result"
    }
   ],
   "source": [
    "my_tuple[1:2] ## slices"
   ]
  },
  {
   "cell_type": "code",
   "execution_count": 19,
   "metadata": {},
   "outputs": [
    {
     "data": {
      "text/plain": [
       "2"
      ]
     },
     "execution_count": 19,
     "metadata": {},
     "output_type": "execute_result"
    }
   ],
   "source": [
    "my_tuple.index('year')  ## return the index values"
   ]
  },
  {
   "cell_type": "code",
   "execution_count": 20,
   "metadata": {},
   "outputs": [
    {
     "name": "stdout",
     "output_type": "stream",
     "text": [
      "apple\n",
      "10\n",
      "True\n"
     ]
    }
   ],
   "source": [
    "# Tuple with mixed data types\n",
    "another_tuple = ('apple', 10, True)\n",
    "\n",
    "# Tuple unpacking\n",
    "a, b, c = another_tuple\n",
    "print(a)  # Output: 'apple'\n",
    "print(b)  # Output: 10\n",
    "print(c)  # Output: True"
   ]
  },
  {
   "cell_type": "markdown",
   "metadata": {},
   "source": [
    "# IMP NOTES\n"
   ]
  },
  {
   "cell_type": "code",
   "execution_count": null,
   "metadata": {},
   "outputs": [],
   "source": [
    "# IMP NOTES\n"
   ]
  },
  {
   "cell_type": "markdown",
   "metadata": {},
   "source": [
    "Key Differences Summary:\n",
    "Mutability: Lists and sets are mutable, meaning you can change them after creation, while tuples are immutable.\n",
    "\n",
    "Order: Lists and tuples are ordered, meaning they preserve the order of elements and allow indexing, while sets are unordered and do not preserve the order of elements.\n",
    "\n",
    "Uniqueness: Sets ensure all elements are unique, while lists and tuples can contain duplicates.\n",
    "\n",
    "Syntax: Lists use [ ], tuples use ( ), and sets use { }."
   ]
  }
 ],
 "metadata": {
  "kernelspec": {
   "display_name": "Python 3",
   "language": "python",
   "name": "python3"
  },
  "language_info": {
   "codemirror_mode": {
    "name": "ipython",
    "version": 3
   },
   "file_extension": ".py",
   "mimetype": "text/x-python",
   "name": "python",
   "nbconvert_exporter": "python",
   "pygments_lexer": "ipython3",
   "version": "3.11.9"
  }
 },
 "nbformat": 4,
 "nbformat_minor": 2
}
